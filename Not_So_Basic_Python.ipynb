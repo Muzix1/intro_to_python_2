{
 "cells": [
  {
   "cell_type": "markdown",
   "metadata": {},
   "source": [
    "# Not So Basic Python (Follows intro_to_python)\n",
    "Picks up from Basic Python Programming"
   ]
  },
  {
   "cell_type": "markdown",
   "metadata": {},
   "source": [
    "## Some Revision\n",
    "**Primitives** (Strings, Integers, Floats, Booleans, Complex Numbers)  \n",
    "**NonPrimitives/Collections** (Lists, Tuples, Dictionaries, Sets)  \n",
    "**Operators**(Comparison, Arithmetic, Logical, Assignment, Boolean, Identity Membership)  \n",
    "**Functions**(Basic)  "
   ]
  },
  {
   "cell_type": "markdown",
   "metadata": {},
   "source": [
    "# Breakdown\n",
    "1. Datatypes\n",
    "1. Functions(builtins)\n",
    "1. Namespace\n",
    "1. Understanding Errors\n",
    "1. Testing\n",
    "1. Exception Handling\n",
    "1. Working with files\n",
    "1. Working with databases"
   ]
  },
  {
   "cell_type": "markdown",
   "metadata": {},
   "source": [
    "## Other Data Types"
   ]
  },
  {
   "cell_type": "markdown",
   "metadata": {},
   "source": [
    "### JavasScript Object Notation (JSON)"
   ]
  },
  {
   "cell_type": "code",
   "execution_count": null,
   "metadata": {},
   "outputs": [],
   "source": [
    "import json\n",
    "\n",
    "sample_dict = {'k1':1, 'k2':2, 'k3':3}\n",
    "\n",
    "j_obj = json.dumps(sample_dict) # convert TO json\n",
    "j_obj"
   ]
  },
  {
   "cell_type": "code",
   "execution_count": null,
   "metadata": {},
   "outputs": [],
   "source": [
    "type(j_obj)"
   ]
  },
  {
   "cell_type": "code",
   "execution_count": null,
   "metadata": {},
   "outputs": [],
   "source": [
    "# https://api.binance.com/api/v3/ticker/price"
   ]
  },
  {
   "cell_type": "code",
   "execution_count": null,
   "metadata": {},
   "outputs": [],
   "source": [
    "dict_obj = json.loads(j_obj) # convert FROM json\n",
    "dict_obj"
   ]
  },
  {
   "cell_type": "code",
   "execution_count": null,
   "metadata": {},
   "outputs": [],
   "source": [
    "type(dict_obj)"
   ]
  },
  {
   "cell_type": "markdown",
   "metadata": {},
   "source": [
    "### Datetime"
   ]
  },
  {
   "cell_type": "code",
   "execution_count": null,
   "metadata": {},
   "outputs": [],
   "source": [
    "from datetime import datetime"
   ]
  },
  {
   "cell_type": "code",
   "execution_count": null,
   "metadata": {
    "scrolled": true
   },
   "outputs": [],
   "source": [
    "datetime.now()"
   ]
  },
  {
   "cell_type": "code",
   "execution_count": null,
   "metadata": {},
   "outputs": [],
   "source": [
    "# datetime TO string\n",
    "datetime.now().strftime('%Y-%B')"
   ]
  },
  {
   "cell_type": "code",
   "execution_count": null,
   "metadata": {},
   "outputs": [],
   "source": [
    "# string to datetime\n",
    "dt_str = '22 April, 2016'\n",
    "datetime.strptime(dt_str, \"%d %B, %Y\")"
   ]
  },
  {
   "cell_type": "code",
   "execution_count": null,
   "metadata": {},
   "outputs": [],
   "source": [
    "\"\"\"\n",
    "Creating timestamps\n",
    "Measure the number of seconds between a specific time and 1st of Jan 1970\n",
    "Mostly used in databases\n",
    "\"\"\"\n",
    "\n",
    "# timestamp FROM datetime\n",
    "datetime.timestamp(datetime.now())"
   ]
  },
  {
   "cell_type": "code",
   "execution_count": null,
   "metadata": {},
   "outputs": [],
   "source": [
    "# datetime FROM timestamp\n",
    "timestamp = 1545730073.333333\n",
    "print(type(timestamp))\n",
    "datetime.fromtimestamp(timestamp)"
   ]
  },
  {
   "cell_type": "markdown",
   "metadata": {},
   "source": [
    "## Other datatypes\n",
    "1. Classes\n",
    "1. Methods\n"
   ]
  },
  {
   "cell_type": "markdown",
   "metadata": {},
   "source": [
    "## Functions"
   ]
  },
  {
   "cell_type": "code",
   "execution_count": null,
   "metadata": {},
   "outputs": [],
   "source": [
    "def power(x):\n",
    "    \"\"\"Returns x**2\"\"\"\n",
    "    result = x**2\n",
    "    return result\n",
    "\n",
    "power(3)"
   ]
  },
  {
   "cell_type": "markdown",
   "metadata": {},
   "source": [
    "### Builtin Functions"
   ]
  },
  {
   "cell_type": "code",
   "execution_count": null,
   "metadata": {},
   "outputs": [],
   "source": [
    "round(12434.324434, 4)"
   ]
  },
  {
   "cell_type": "code",
   "execution_count": null,
   "metadata": {},
   "outputs": [],
   "source": [
    "len([1,2,3,4,5])"
   ]
  },
  {
   "cell_type": "code",
   "execution_count": null,
   "metadata": {},
   "outputs": [],
   "source": [
    "abs(-4), abs(4)"
   ]
  },
  {
   "cell_type": "code",
   "execution_count": null,
   "metadata": {},
   "outputs": [],
   "source": [
    "sorted([5,3,2,4,1]), sorted([5,3,2,4,1], reverse=True)"
   ]
  },
  {
   "cell_type": "markdown",
   "metadata": {},
   "source": [
    "## Builtin functions for multiple objects"
   ]
  },
  {
   "cell_type": "code",
   "execution_count": null,
   "metadata": {},
   "outputs": [],
   "source": [
    "# map(function, iterable)\n",
    "my_list = [1,2,3]\n",
    "# list(map(power, my_list))\n",
    "tuple(map(power, my_list))"
   ]
  },
  {
   "cell_type": "code",
   "execution_count": null,
   "metadata": {},
   "outputs": [],
   "source": [
    "# zip(iterator_1, iterator_2)\n",
    "my_other_list = ['a','b','c']\n",
    "# dict(zip(my_other_list, my_list))\n",
    "tuple(zip(my_other_list, my_list))"
   ]
  },
  {
   "cell_type": "code",
   "execution_count": null,
   "metadata": {},
   "outputs": [],
   "source": [
    "# filter(function, iterable)\n",
    "l2 = [2,3,4,7,8,9,10]\n",
    "tuple(filter(lambda x: x%2==0, l2)) # function has to return True"
   ]
  },
  {
   "cell_type": "markdown",
   "metadata": {},
   "source": [
    "## Namespace"
   ]
  },
  {
   "cell_type": "markdown",
   "metadata": {},
   "source": [
    "![namespace](https://cdn.programiz.com/sites/tutorial2program/files/nested-namespaces-python.jpg)"
   ]
  },
  {
   "cell_type": "code",
   "execution_count": null,
   "metadata": {},
   "outputs": [],
   "source": [
    "# Builtin Namespace\n",
    "print(dir(__builtins__));"
   ]
  },
  {
   "cell_type": "code",
   "execution_count": null,
   "metadata": {},
   "outputs": [],
   "source": [
    "# Local Namespace\n",
    "# Variables assigned inside functions\n",
    "\n",
    "c = 6 # Global var\n",
    "\n",
    "def my_func(a,b):\n",
    "    \"\"\"The docstring\"\"\"\n",
    "    global c # if you want to modify the global variable.\n",
    "    local_var = a + b\n",
    "    return local_var"
   ]
  },
  {
   "cell_type": "code",
   "execution_count": null,
   "metadata": {},
   "outputs": [],
   "source": [
    "# NonLocal Namespace\n",
    "def other_func(a,b):\n",
    "    \"\"\"The docstring\"\"\"\n",
    "    d = 7\n",
    "    local_var = a + b\n",
    "    def inside_func(local_var):\n",
    "        nonlocal d\n",
    "        return local_var + d\n"
   ]
  },
  {
   "cell_type": "markdown",
   "metadata": {},
   "source": [
    "## Understanding Errors"
   ]
  },
  {
   "cell_type": "markdown",
   "metadata": {},
   "source": [
    "### Syntaxt Errors\n",
    "Occur when Python cannot understand a line of code  \n",
    "Stops the script at runtime"
   ]
  },
  {
   "cell_type": "code",
   "execution_count": null,
   "metadata": {},
   "outputs": [],
   "source": [
    "a = \"string\n",
    "def my_func()\n"
   ]
  },
  {
   "cell_type": "markdown",
   "metadata": {},
   "source": [
    "### Symentic Errors\n",
    "Occurs when a line of code asks Python to do something it cannot"
   ]
  },
  {
   "cell_type": "code",
   "execution_count": null,
   "metadata": {},
   "outputs": [],
   "source": [
    "l1 = [1,2,3]\n",
    "l1[4] # Out of range\n",
    "my_int = int('abc')"
   ]
  },
  {
   "cell_type": "markdown",
   "metadata": {},
   "source": [
    "### Logical Errors\n",
    "AKA your worst nightmare!!!!  \n",
    "Python will continue to run but your computation or logic will be wrong"
   ]
  },
  {
   "cell_type": "code",
   "execution_count": null,
   "metadata": {},
   "outputs": [],
   "source": [
    "def add_stuff(a,b):\n",
    "    assert a>0, 'a has to be a positive number'\n",
    "#     assert type(b)== int, 'b has to be an integer'\n",
    "    res = a * b\n",
    "    return res\n",
    "#     res = a * b\n",
    "# assert type(a) & type(b) == str"
   ]
  },
  {
   "cell_type": "code",
   "execution_count": null,
   "metadata": {},
   "outputs": [],
   "source": [
    "add_stuff(0, 4)"
   ]
  },
  {
   "cell_type": "markdown",
   "metadata": {},
   "source": [
    "Testing to the rescue"
   ]
  },
  {
   "cell_type": "code",
   "execution_count": null,
   "metadata": {},
   "outputs": [],
   "source": [
    "assert add_stuff(2,2) == 4"
   ]
  },
  {
   "cell_type": "code",
   "execution_count": null,
   "metadata": {},
   "outputs": [],
   "source": [
    "assert add_stuff(2,3) == 5"
   ]
  },
  {
   "cell_type": "code",
   "execution_count": null,
   "metadata": {},
   "outputs": [],
   "source": [
    "assert add_stuff(10, 1) == 11"
   ]
  },
  {
   "cell_type": "markdown",
   "metadata": {},
   "source": [
    "## Tips on dealing with errors\n",
    "1. Read the traceback\n",
    "1. Find the type of error\n",
    "1. Read the error message\n",
    "1. Find the line where the error occured\n",
    "1. Copy and paste the error message into Google"
   ]
  },
  {
   "cell_type": "markdown",
   "metadata": {},
   "source": [
    "### Testing packages\n",
    "1. unittest (builtin)\n",
    "1. pytest\n",
    "1. nose"
   ]
  },
  {
   "cell_type": "markdown",
   "metadata": {},
   "source": [
    "## Exception Handling\n",
    "Exceptions can be handled at runtime, Errors can't\n"
   ]
  },
  {
   "cell_type": "code",
   "execution_count": null,
   "metadata": {},
   "outputs": [],
   "source": [
    "assert 1 == 1"
   ]
  },
  {
   "cell_type": "code",
   "execution_count": null,
   "metadata": {},
   "outputs": [],
   "source": [
    "assert 1 == 3, 'No, they are not equal'"
   ]
  },
  {
   "cell_type": "code",
   "execution_count": null,
   "metadata": {},
   "outputs": [],
   "source": [
    "a = 3\n",
    "b = 3\n",
    "if a==b:\n",
    "    raise Exception('a and b should not be equal')"
   ]
  },
  {
   "cell_type": "code",
   "execution_count": null,
   "metadata": {},
   "outputs": [],
   "source": [
    "c = 4\n",
    "d = 3\n",
    "# d = 'a'\n",
    "try:\n",
    "    c/d\n",
    "except:\n",
    "    print('Flip, something went wrong')\n",
    "print('done')"
   ]
  },
  {
   "cell_type": "code",
   "execution_count": null,
   "metadata": {},
   "outputs": [],
   "source": [
    "try:\n",
    "    c/d\n",
    "except ZeroDivisionError:\n",
    "    print(\"You're trying to divide by 0. Not cool\")\n",
    "except TypeError as te:\n",
    "    print\n",
    "except:\n",
    "    print('Flip, something went wrong')    \n",
    "else:\n",
    "    print(\"Executed if no exception is found\")\n",
    "finally:\n",
    "    print(\"Executed no matter what\")\n",
    "    "
   ]
  },
  {
   "cell_type": "markdown",
   "metadata": {},
   "source": [
    "## Working With Files"
   ]
  },
  {
   "cell_type": "code",
   "execution_count": null,
   "metadata": {},
   "outputs": [],
   "source": [
    "import requests as r\n",
    "import csv\n",
    "\n",
    "file = r.get('https://raw.githubusercontent.com/Explore-AI/Public-Data/master/AnalyseProject/dam.csv')\n",
    "# dir(file)  #Request object\n",
    "# File Modes: 'r'-read, 'w'-write, 'a'-append, '+'-special read & write\n",
    "\n",
    "# Writting to a file\n",
    "with open('dam.txt', 'w+') as f:\n",
    "    f.write(file.text)\n",
    "\n",
    "# Reading from a file\n",
    "# with open('dam.txt') as csv_file:\n",
    "#     reader = csv.reader(csv_file, delimiter=',')\n",
    "#     for row in reader:\n",
    "#         print(row)\n",
    "\n",
    "print('done')"
   ]
  },
  {
   "cell_type": "markdown",
   "metadata": {},
   "source": [
    "## Working With Databases\n",
    "Python needs drivers to work with databases"
   ]
  },
  {
   "cell_type": "code",
   "execution_count": null,
   "metadata": {},
   "outputs": [],
   "source": [
    "# SQLITE\n",
    "# Self contained. No need to install a server\n",
    "# 5 datatypes (Null, Integer, Real, Text, Blob)\n",
    "# Up to 140 terabytes of storage\n",
    "# comes with Python\n",
    "\n",
    "import sqlite3 \n",
    "\n",
    "# pyodbc - SQL Server\n",
    "# psycopg2 - PostgreSQL\n",
    "\n",
    "# Create/Connect database.\n",
    "conn = sqlite3.connect('example.db')\n",
    "\n",
    "# create instance of cursor\n",
    "c = conn.cursor()\n",
    "\n",
    "# Create table\n",
    "c.execute('''CREATE TABLE my_table\n",
    "             (date text, name text, bank_bal real)''')\n",
    "\n",
    "# Insert a row of data\n",
    "c.execute(\"INSERT INTO my_table VALUES ('2006-01-05','Sindy',3335.14)\")\n",
    "\n",
    "# Save the changes\n",
    "conn.commit()\n",
    "\n",
    "# Close db connection\n",
    "conn.close()"
   ]
  },
  {
   "cell_type": "code",
   "execution_count": null,
   "metadata": {},
   "outputs": [],
   "source": [
    "#Retrieving Infomartion\n",
    "\n",
    "# connect to db\n",
    "conn = sqlite3.connect('example.db') \n",
    "\n",
    "# create instance of cursor\n",
    "c = conn.cursor() \n",
    "\n",
    "# execute SQL\n",
    "c.execute(\" SELECT * FROM my_table\") \n",
    "\n",
    "# fetch data from cursor instance\n",
    "all_rows = c.fetchall() \n",
    "\n",
    "# loop through the rows\n",
    "for row in all_rows:\n",
    "    print(row)\n",
    "\n",
    "# Close db connection\n",
    "conn.close()"
   ]
  },
  {
   "cell_type": "markdown",
   "metadata": {},
   "source": [
    "## Other Topics ?"
   ]
  },
  {
   "cell_type": "markdown",
   "metadata": {},
   "source": [
    "## Tutorial Times?"
   ]
  },
  {
   "cell_type": "markdown",
   "metadata": {},
   "source": [
    "# Athena Rating/Review Will be Appreciated\n",
    "__[athena](http://athena2.explore-datascience.net/student/profile)__"
   ]
  },
  {
   "cell_type": "markdown",
   "metadata": {},
   "source": [
    "## References\n",
    "https://docs.python.org/3/library/unittest.html  \n",
    "https://docs.pytest.org/en/latest/  \n",
    "https://nose.readthedocs.io/en/latest/  \n",
    "https://docs.python.org/3/library/functions.html  \n",
    "https://docs.python.org/2/library/sqlite3.html  \n",
    "https://www.json.org/ \n",
    "https://www.postgresql.org  \n",
    "https://www.programiz.com/python-programming/datetime/strftime  "
   ]
  }
 ],
 "metadata": {
  "kernelspec": {
   "display_name": "Python 3",
   "language": "python",
   "name": "python3"
  },
  "language_info": {
   "codemirror_mode": {
    "name": "ipython",
    "version": 3
   },
   "file_extension": ".py",
   "mimetype": "text/x-python",
   "name": "python",
   "nbconvert_exporter": "python",
   "pygments_lexer": "ipython3",
   "version": "3.7.1"
  }
 },
 "nbformat": 4,
 "nbformat_minor": 2
}
